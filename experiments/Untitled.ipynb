{
 "cells": [
  {
   "cell_type": "code",
   "execution_count": 5,
   "id": "4c6ba10f-0def-48d3-b726-926f4558d7d0",
   "metadata": {},
   "outputs": [],
   "source": [
    "import numpy as np\n",
    "import os \n",
    "import pandas as pd\n",
    "import cv2\n",
    "import torch\n",
    "import matplotlib.pyplot as plt\n",
    "# from ipywidgets import interact\n",
    "import albumentations as A\n",
    "from albumentations.pytorch import ToTensorV2\n",
    "import torchvision\n",
    "from torch import nn\n",
    "import torchsummary\n",
    "from torch.utils.data import DataLoader\n",
    "from collections import defaultdict\n",
    "from torchvision.utils import make_grid"
   ]
  },
  {
   "cell_type": "code",
   "execution_count": 6,
   "id": "69ce285c-6ee1-41ab-ace2-f49af16857c6",
   "metadata": {},
   "outputs": [
    {
     "data": {
      "text/plain": [
       "device(type='cuda', index=0)"
      ]
     },
     "execution_count": 6,
     "metadata": {},
     "output_type": "execute_result"
    }
   ],
   "source": [
    "device = torch.device(\"cuda:0\" if torch.cuda.is_available() else \"cpu\")\n",
    "device"
   ]
  },
  {
   "cell_type": "markdown",
   "id": "c83d5c2f-6373-4d1e-a762-41d5d53c1f9a",
   "metadata": {},
   "source": [
    "## Datasets"
   ]
  },
  {
   "cell_type": "code",
   "execution_count": 41,
   "id": "93377edb-602d-4ddd-9c12-d89c1e445297",
   "metadata": {},
   "outputs": [],
   "source": [
    "class Dataset():\n",
    "    def __init__(self, root, phase, transformer=None):\n",
    "        self.root=root\n",
    "        self.phase=phase\n",
    "        self.transformer=transformer\n",
    "        self.image_list=sorted(os.listdir(root+\"image/\"+phase))\n",
    "        self.des_list=sorted(os.listdir(root+\"description/\"+phase))\n",
    "        self.label_list=sorted(os.listdir(root+\"label/\"+phase))\n",
    "        \n",
    "    def __getitem__(self, index):\n",
    "        img, des, label = self.get_data(index)\n",
    "        return img, des, label\n",
    "        \n",
    "    def __len__(self, ):\n",
    "        return len(self.image_list)\n",
    "\n",
    "    def get_data(self, index):\n",
    "        # label\n",
    "        label_file_name=self.label_list[index]\n",
    "        lab_f=open(self.root+\"label/\"+self.phase+\"/\"+label_file_name, \"r\")\n",
    "        label=lab_f.read()\n",
    "\n",
    "        # description\n",
    "        des_file_name=self.des_list[index]\n",
    "        des_f=open(self.root+\"description/\"+self.phase+\"/\"+des_file_name, \"r\")\n",
    "        des_text=des_f.read()\n",
    "        des=des_text.split(\" \")\n",
    "\n",
    "        # image\n",
    "        img_file_name=self.image_list[index]\n",
    "        image=cv2.imread(self.root+\"image/\"+self.phase+\"/\"+img_file_name)\n",
    "        img=cv2.cvtColor(image, cv2.COLOR_BGR2RGB)\n",
    "\n",
    "        if(self.transformer!=None):\n",
    "            transformed_img=self.transformer(image=img)\n",
    "            img=transformed_img\n",
    "        \n",
    "        return img, des, label\n",
    "        \n",
    "    "
   ]
  },
  {
   "cell_type": "code",
   "execution_count": 50,
   "id": "b37180c3-40c0-4f29-84b7-da062c85be6d",
   "metadata": {},
   "outputs": [],
   "source": [
    "IMAGE_SIZE=448\n",
    "transformer = A.Compose([\n",
    "            A.Resize(height=IMAGE_SIZE, width=IMAGE_SIZE),\n",
    "            A.Normalize(mean=(0.485, 0.456, 0.406),std=(0.229, 0.224, 0.225)),\n",
    "            ToTensorV2(),\n",
    "        ]\n",
    "    )"
   ]
  },
  {
   "cell_type": "code",
   "execution_count": 51,
   "id": "d5e40fb9-26a2-4084-a74c-62d7647138cf",
   "metadata": {},
   "outputs": [],
   "source": [
    "root='/home/host_data/nickData/'\n",
    "train_dataset=Dataset(root=root, phase=\"train\", transformer=transformer)"
   ]
  },
  {
   "cell_type": "code",
   "execution_count": 52,
   "id": "a4086df6-9f89-488e-9b8d-a7414ba2eea4",
   "metadata": {},
   "outputs": [],
   "source": [
    "img, des, label=train_dataset[0]"
   ]
  },
  {
   "cell_type": "code",
   "execution_count": 54,
   "id": "a25b3eb2-ebf3-403c-98db-b3b6fd964e1c",
   "metadata": {},
   "outputs": [
    {
     "data": {
      "text/plain": [
       "torch.Size([3, 448, 448])"
      ]
     },
     "execution_count": 54,
     "metadata": {},
     "output_type": "execute_result"
    }
   ],
   "source": [
    "img['image'].shape"
   ]
  },
  {
   "cell_type": "markdown",
   "id": "31fb5975-f093-4940-952b-abff5967f2fc",
   "metadata": {},
   "source": [
    "## MODELs"
   ]
  },
  {
   "cell_type": "code",
   "execution_count": null,
   "id": "d328de53-85c7-43e6-808c-32c4241de00a",
   "metadata": {},
   "outputs": [],
   "source": []
  },
  {
   "cell_type": "code",
   "execution_count": null,
   "id": "b041c468-eff7-4f10-a803-cebecf1bbe20",
   "metadata": {},
   "outputs": [],
   "source": []
  },
  {
   "cell_type": "code",
   "execution_count": null,
   "id": "239bd4a1-00c2-4929-a9ef-2881577715a8",
   "metadata": {},
   "outputs": [],
   "source": []
  },
  {
   "cell_type": "code",
   "execution_count": null,
   "id": "d841b979-6222-4183-854d-a83b06918ae9",
   "metadata": {},
   "outputs": [],
   "source": []
  },
  {
   "cell_type": "code",
   "execution_count": null,
   "id": "926c73a0-8099-4ced-a244-25a563220ab0",
   "metadata": {},
   "outputs": [],
   "source": []
  },
  {
   "cell_type": "code",
   "execution_count": null,
   "id": "767d95a6-5999-45a7-9573-4749e7931ba3",
   "metadata": {},
   "outputs": [],
   "source": []
  }
 ],
 "metadata": {
  "kernelspec": {
   "display_name": "Python 3 (ipykernel)",
   "language": "python",
   "name": "python3"
  },
  "language_info": {
   "codemirror_mode": {
    "name": "ipython",
    "version": 3
   },
   "file_extension": ".py",
   "mimetype": "text/x-python",
   "name": "python",
   "nbconvert_exporter": "python",
   "pygments_lexer": "ipython3",
   "version": "3.10.13"
  }
 },
 "nbformat": 4,
 "nbformat_minor": 5
}
